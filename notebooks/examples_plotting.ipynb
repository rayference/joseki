{
 "cells": [
  {
   "cell_type": "code",
   "execution_count": null,
   "id": "0",
   "metadata": {},
   "outputs": [],
   "source": [
    "import matplotlib.pyplot as plt\n",
    "import seaborn as sns\n",
    "\n",
    "import joseki\n",
    "\n",
    "DARK_MODE = True\n",
    "sns.set_theme(style=\"ticks\")\n",
    "\n",
    "if DARK_MODE:\n",
    "    plt.style.use(\"dark_background\")\n",
    "    suffix = \"-dark\"\n",
    "else:\n",
    "    suffix = \"-light\"\n",
    "\n",
    "savefig_kwargs = dict(bbox_inches=\"tight\", transparent=True, facecolor=\"none\")"
   ]
  },
  {
   "cell_type": "code",
   "execution_count": null,
   "id": "1",
   "metadata": {},
   "outputs": [],
   "source": [
    "ds = joseki.make(identifier=\"afgl_1986-us_standard\", additional_molecules=False)"
   ]
  },
  {
   "cell_type": "code",
   "execution_count": null,
   "id": "2",
   "metadata": {},
   "outputs": [],
   "source": [
    "ds.p.plot(figsize=(3, 6), ls=\"dotted\", marker=\".\", y=\"z\", xscale=\"log\")\n",
    "plt.savefig(f\"plotting-p{suffix}.svg\", **savefig_kwargs)"
   ]
  },
  {
   "cell_type": "code",
   "execution_count": null,
   "id": "3",
   "metadata": {},
   "outputs": [],
   "source": [
    "ds.t.plot(figsize=(3, 6), ls=\"dotted\", marker=\".\", y=\"z\")\n",
    "plt.savefig(f\"plotting-t{suffix}.svg\", **savefig_kwargs)"
   ]
  },
  {
   "cell_type": "code",
   "execution_count": null,
   "id": "4",
   "metadata": {},
   "outputs": [],
   "source": [
    "ds.n.plot(figsize=(3, 6), ls=\"dotted\", marker=\".\", y=\"z\", xscale=\"log\")\n",
    "plt.savefig(f\"plotting-n{suffix}.svg\", **savefig_kwargs)"
   ]
  },
  {
   "cell_type": "code",
   "execution_count": null,
   "id": "5",
   "metadata": {},
   "outputs": [],
   "source": [
    "plt.figure(figsize=(6, 6))\n",
    "\n",
    "for m in ds.joseki.molecules:\n",
    "    ds[f\"x_{m}\"].plot(ls=\"dotted\", marker=\".\", y=\"z\", xscale=\"log\")\n",
    "\n",
    "plt.xlabel(\"mole fraction [dimensionless]\")\n",
    "plt.legend(ds.joseki.molecules)\n",
    "plt.savefig(f\"plotting-x{suffix}.svg\", **savefig_kwargs)"
   ]
  },
  {
   "cell_type": "code",
   "execution_count": null,
   "id": "6",
   "metadata": {},
   "outputs": [],
   "source": []
  }
 ],
 "metadata": {
  "kernelspec": {
   "display_name": "Python 3 (ipykernel)",
   "language": "python",
   "name": "python3"
  },
  "language_info": {
   "codemirror_mode": {
    "name": "ipython",
    "version": 3
   },
   "file_extension": ".py",
   "mimetype": "text/x-python",
   "name": "python",
   "nbconvert_exporter": "python",
   "pygments_lexer": "ipython3",
   "version": "3.10.13"
  }
 },
 "nbformat": 4,
 "nbformat_minor": 5
}
