{
 "cells": [
  {
   "attachments": {},
   "cell_type": "markdown",
   "metadata": {},
   "source": [
    "# Tutorials"
   ]
  },
  {
   "attachments": {},
   "cell_type": "markdown",
   "metadata": {},
   "source": [
    "## CAMS reanalysis datasets\n",
    "\n",
    "In this tutorial series, we will show how the \n",
    "[reanalysis datasets](https://confluence.ecmwf.int/display/CKB/CAMS%3A+Reanalysis+data+documentation#heading-Guidelines) from the Copernicus Atmosphere Monitoring \n",
    "Service (CAMS) can be used to :\n",
    "\n",
    "1. Rescale a standard profile, i.e. modify a standard profile by rescaling the \n",
    "  molecular total column densities to match the CAMS values.\n",
    "\n",
    "2. Create a profile, i.e. create a new atmospheric profile entirely from CAMS \n",
    "   multi-levels data."
   ]
  },
  {
   "attachments": {},
   "cell_type": "markdown",
   "metadata": {},
   "source": [
    "### Prerequisites"
   ]
  },
  {
   "cell_type": "markdown",
   "metadata": {},
   "source": [
    "To convert CAMS data to *Joseki* profiles, it is required to download the CAMS \n",
    "data from the \n",
    "[Atmospheric Data Store](https://ads.atmosphere.copernicus.eu/#!/home) \n",
    "beforehand.\n",
    "\n",
    "For convenience, this tutorial series makes use of two CAMS datasets that are \n",
    "part of *Joseki*'s tests suite:"
   ]
  },
  {
   "cell_type": "code",
   "execution_count": null,
   "metadata": {},
   "outputs": [],
   "source": [
    "from joseki.tests_util import find_test_data\n",
    "\n",
    "test_eac4_single_level_data = find_test_data(\n",
    "    \"232f85b4-b3e9-47a7-a52d-9f955c38b9f6.nc\"\n",
    ")\n",
    "\n",
    "test_eac4_multi_level_data = find_test_data(\n",
    "    \"97da7a58-674a-4a1f-a92b-534cb95d07bb.zip\"\n",
    ")"
   ]
  },
  {
   "cell_type": "markdown",
   "metadata": {},
   "source": [
    "For the purposes of these tests, and to reduce the datasets size, the latter\n",
    "have a very limited coverage in time, space and include a limited number of data variables."
   ]
  },
  {
   "attachments": {},
   "cell_type": "markdown",
   "metadata": {},
   "source": [
    "### Setup"
   ]
  },
  {
   "attachments": {},
   "cell_type": "markdown",
   "metadata": {},
   "source": [
    "We will need the following imports:"
   ]
  },
  {
   "cell_type": "code",
   "execution_count": null,
   "metadata": {},
   "outputs": [],
   "source": [
    "import joseki\n",
    "\n",
    "from joseki.profiles.cams import from_cams_reanalysis, get_molecule_amounts"
   ]
  },
  {
   "attachments": {},
   "cell_type": "markdown",
   "metadata": {},
   "source": [
    "For visualization purposes, we will use the [matplotlib](https://matplotlib.org) library. As it is not part of `joseki` dependencies, you will have to install it. "
   ]
  },
  {
   "cell_type": "code",
   "execution_count": null,
   "metadata": {},
   "outputs": [],
   "source": [
    "import matplotlib.pyplot as plt"
   ]
  },
  {
   "attachments": {},
   "cell_type": "markdown",
   "metadata": {},
   "source": [
    "In this tutorial series, we will choose the below time and geographical coordinates specifications."
   ]
  },
  {
   "cell_type": "code",
   "execution_count": null,
   "metadata": {},
   "outputs": [],
   "source": [
    "TIME = \"2020-07-01T12:00:00.000000000\"\n",
    "LATITUDE = 23.42\n",
    "LONGITUDE = 27.67"
   ]
  },
  {
   "attachments": {},
   "cell_type": "markdown",
   "metadata": {},
   "source": [
    "### 1. Rescale a standard profile\n",
    "\n",
    "In this example, we update the *AFGL (1986) Midlatitude Summer* profile so that the total H2O and O3 amounts match with the CAMS data. We start by creating the standard profile:"
   ]
  },
  {
   "cell_type": "code",
   "execution_count": null,
   "metadata": {},
   "outputs": [],
   "source": [
    "midlatitude_summer = joseki.make(\"afgl_1986-midlatitude_summer\")"
   ]
  },
  {
   "cell_type": "markdown",
   "metadata": {},
   "source": [
    "The H2O and O3 total amounts can be extracted from the CAMS reanalysis data \n",
    "with [`get_molecule_amounts`](reference.md#src.joseki.profiles.cams.get_molecule_amounts):"
   ]
  },
  {
   "cell_type": "code",
   "execution_count": null,
   "metadata": {},
   "outputs": [],
   "source": [
    "cams_amounts = get_molecule_amounts(\n",
    "    test_eac4_single_level_data,\n",
    "    time=TIME,\n",
    "    lon=LONGITUDE,\n",
    "    lat=LATITUDE,\n",
    ")"
   ]
  },
  {
   "cell_type": "markdown",
   "metadata": {},
   "source": [
    "The *AFGL (1986) Midlatitude Summer* is rescaled to these amounts with \n",
    "[`rescale_to`](reference.md#src.joseki.accessor.JosekiAccessor.rescale_to):  "
   ]
  },
  {
   "cell_type": "code",
   "execution_count": null,
   "metadata": {},
   "outputs": [],
   "source": [
    "rescaled = midlatitude_summer.joseki.rescale_to(target=cams_amounts)"
   ]
  },
  {
   "cell_type": "markdown",
   "metadata": {},
   "source": [
    "In order to visualize the difference between the original and rescaled profile,\n",
    "the below code may be used:"
   ]
  },
  {
   "cell_type": "code",
   "execution_count": null,
   "metadata": {},
   "outputs": [],
   "source": [
    "fig, _ = plt.subplots(figsize=(6, 6), dpi=96, sharey=True)\n",
    "\n",
    "params = {\n",
    "   \"ls\": \"dotted\",\n",
    "   \"marker\": \".\",\n",
    "   \"markersize\": 3,\n",
    "   \"y\": \"z\",\n",
    "}\n",
    "\n",
    "# Water vapour\n",
    "plt.subplot(1, 2, 1)\n",
    "midlatitude_summer.x_H2O.plot(\n",
    "   **params,\n",
    "   label=\"Midlatitude Summer\",\n",
    "   xscale=\"log\",\n",
    ")\n",
    "rescaled.x_H2O.plot(**params, label=\"CAMS EAC4\")\n",
    "plt.ylabel(\"\")\n",
    "plt.xlim([\n",
    "   0.95 * min(rescaled.x_H2O.min(), midlatitude_summer.x_H2O.min()),\n",
    "   1.1 * rescaled.x_H2O.max()\n",
    "])\n",
    "plt.grid()\n",
    "\n",
    "# Ozone\n",
    "plt.subplot(1, 2, 2)\n",
    "midlatitude_summer.x_O3.plot(\n",
    "   **params,\n",
    "   label=\"Midlatitude Summer\",\n",
    "   xscale=\"log\",\n",
    ")\n",
    "rescaled.x_O3.plot(**params, label=\"CAMS EAC4\")\n",
    "plt.ylabel(\"\")\n",
    "plt.xlim([0.5 * rescaled.x_O3.min(), 1.1 * rescaled.x_O3.max()])\n",
    "plt.grid()\n",
    "\n",
    "ax = plt.gca()\n",
    "handles, labels = ax.get_legend_handles_labels()\n",
    "fig.legend(handles, labels, ncol=2, loc='upper center', bbox_to_anchor=(0.5, 0))\n",
    "\n",
    "\n",
    "plt.tight_layout()\n",
    "plt.show()"
   ]
  },
  {
   "cell_type": "markdown",
   "metadata": {},
   "source": [
    "![image](fig/tutorials/cams/1.png)"
   ]
  },
  {
   "attachments": {},
   "cell_type": "markdown",
   "metadata": {},
   "source": [
    "### 2. Create a profile"
   ]
  },
  {
   "attachments": {},
   "cell_type": "markdown",
   "metadata": {},
   "source": [
    "To create a profile entirely from CAMS data, we use the EAC4 multi-level data."
   ]
  },
  {
   "cell_type": "code",
   "execution_count": null,
   "metadata": {},
   "outputs": [],
   "source": [
    "ds = from_cams_reanalysis(\n",
    "    data=test_eac4_multi_level_data,\n",
    "    time=TIME,\n",
    "    lon=LONGITUDE,\n",
    "    lat=LATITUDE,\n",
    "    identifier=\"EAC4\",\n",
    ")"
   ]
  },
  {
   "attachments": {},
   "cell_type": "markdown",
   "metadata": {},
   "source": [
    "The resulting dataset complies with [*Joseki*'s format](explanation.md#data-set-format).\n",
    "\n",
    "For more advanced usage, \n",
    "[`from_cams_reanalysis`](reference.md#src.joseki.profiles.cams.from_cams_reanalysis)\n",
    "provides more options such as altitude extrapolation and regularisation."
   ]
  },
  {
   "attachments": {},
   "cell_type": "markdown",
   "metadata": {},
   "source": [
    "Visualize the difference with the standard Midlatitude Summer profile with\n",
    "the below code:"
   ]
  },
  {
   "cell_type": "code",
   "execution_count": null,
   "metadata": {},
   "outputs": [],
   "source": [
    "fig, _ = plt.subplots(figsize=(12, 6), dpi=96, sharey=True)\n",
    "\n",
    "params = {\n",
    "   \"ls\": \"dotted\",\n",
    "   \"marker\": \".\",\n",
    "   \"markersize\": 3,\n",
    "   \"y\": \"z\",\n",
    "}\n",
    "\n",
    "cams_z_max = ds.z.values.max()\n",
    "cams_z_mask = midlatitude_summer.z < cams_z_max\n",
    "\n",
    "# Pressure\n",
    "plt.subplot(1, 4, 1)\n",
    "midlatitude_summer.p.where(cams_z_mask).plot(\n",
    "   **params,\n",
    "   label=\"Midlatitude Summer\",\n",
    "   xscale=\"log\",\n",
    ")\n",
    "ds.p.plot(**params, label=\"CAMS EAC4\")\n",
    "plt.xlim([ds.p.min(), 1.1 * ds.p.max()])\n",
    "plt.grid()\n",
    "\n",
    "# Temperature\n",
    "plt.subplot(1, 4, 2)\n",
    "midlatitude_summer.t.where(cams_z_mask).plot(\n",
    "   **params,\n",
    "   label=\"Midlatitude Summer\",\n",
    "   xscale=\"linear\",\n",
    ")\n",
    "ds.t.plot(**params, label=\"CAMS EAC4\")\n",
    "plt.ylabel(\"\")\n",
    "plt.xlim([0.95 * ds.t.min(), 1.05 * ds.t.max()])\n",
    "plt.grid()\n",
    "\n",
    "# Water vapour\n",
    "plt.subplot(1, 4, 3)\n",
    "midlatitude_summer.x_H2O.where(cams_z_mask).plot(\n",
    "   **params,\n",
    "   label=\"Midlatitude Summer\",\n",
    "   xscale=\"log\",\n",
    ")\n",
    "ds.x_H2O.plot(**params, label=\"CAMS EAC4\")\n",
    "plt.ylabel(\"\")\n",
    "plt.xlim([\n",
    "   0.95 * min(ds.x_H2O.min(), midlatitude_summer.x_H2O.min()),\n",
    "   1.1 * ds.x_H2O.max()\n",
    "])\n",
    "plt.grid()\n",
    "\n",
    "# Ozone\n",
    "plt.subplot(1, 4, 4)\n",
    "midlatitude_summer.x_O3.where(cams_z_mask).plot(\n",
    "   **params,\n",
    "   label=\"Midlatitude Summer\",\n",
    "   xscale=\"log\",\n",
    ")\n",
    "ds.x_O3.plot(**params, label=\"CAMS EAC4\")\n",
    "plt.ylabel(\"\")\n",
    "plt.xlim([0.5 * ds.x_O3.min(), 1.1 * ds.x_O3.max()])\n",
    "plt.grid()\n",
    "\n",
    "ax = plt.gca()\n",
    "handles, labels = ax.get_legend_handles_labels()\n",
    "fig.legend(handles, labels, ncol=2, loc='upper center', bbox_to_anchor=(0.5, 0))\n",
    "\n",
    "\n",
    "plt.tight_layout()\n",
    "plt.show()"
   ]
  },
  {
   "attachments": {},
   "cell_type": "markdown",
   "metadata": {},
   "source": [
    "![image](fig/tutorials/cams/2.png)"
   ]
  },
  {
   "cell_type": "markdown",
   "metadata": {},
   "source": [
    "### 3. Merge EAC4 and EGG4 datasets"
   ]
  },
  {
   "cell_type": "markdown",
   "metadata": {},
   "source": [
    "The EAC4 multi-level data does not provide with the carbon dioxide and methane concentration. The EGG4 dataset does. However the EGG4 dataset does not provide with the concentration of ozone, nitrous oxide, carbon monoxide, nitrogen monoxide, sulfur dioxide and nitrogen dioxide whereas the EAC4 dataset does. In order to obtain a description of air composition as complete as possible, we can merge the two datasets together."
   ]
  },
  {
   "cell_type": "code",
   "execution_count": null,
   "metadata": {},
   "outputs": [],
   "source": [
    "test_eac4 = find_test_data(\"774f1fd2-63c5-4b59-b23d-eadcad7d6b83.zip\")\n",
    "test_egg4 = find_test_data(\"86dbfcd6-9e0b-40df-8ea7-aa2e328339dc.zip\")\n",
    "\n",
    "ds_eac4 = from_cams_reanalysis(\n",
    "    data=test_eac4,\n",
    "    time=\"2020-01-01\",\n",
    "    lon=23.0,\n",
    "    lat=28.0,\n",
    "    identifier=\"EAC4\",\n",
    ")  # x_H2O, x_O3\n",
    "\n",
    "ds_egg4 = from_cams_reanalysis(\n",
    "    data=test_egg4,\n",
    "    time=\"2020-01-01\",\n",
    "    lon=23.0,\n",
    "    lat=28.0,\n",
    "    identifier=\"EGG4\",\n",
    "    pressure_data=\"model_level_60\"  # surface pressure is not available in EGG4\n",
    ")  # x_CO2, x_CH4\n",
    "\n",
    "merged = joseki.merge([ds_eac4, ds_egg4])"
   ]
  },
  {
   "cell_type": "markdown",
   "metadata": {},
   "source": [
    "The merged dataset contains the mole fraction data for the following molecules:\n",
    "$\\rm{H}_2\\rm{O}$, $\\rm{C}\\rm{O}_2$, $\\rm{O}_3$, $\\rm{C}\\rm{H}_4$."
   ]
  }
 ],
 "metadata": {
  "kernelspec": {
   "display_name": "Python 3.8.15 ('joseki')",
   "language": "python",
   "name": "python3"
  },
  "language_info": {
   "codemirror_mode": {
    "name": "ipython",
    "version": 3
   },
   "file_extension": ".py",
   "mimetype": "text/x-python",
   "name": "python",
   "nbconvert_exporter": "python",
   "pygments_lexer": "ipython3",
   "version": "3.8.15"
  },
  "vscode": {
   "interpreter": {
    "hash": "e72882e0712dd57baccbb17acddb7f6fd3284caba77ca9b730a19706ab4e8cf2"
   }
  }
 },
 "nbformat": 4,
 "nbformat_minor": 2
}
